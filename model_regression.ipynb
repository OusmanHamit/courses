{
  "nbformat": 4,
  "nbformat_minor": 0,
  "metadata": {
    "colab": {
      "name": "model-regression",
      "provenance": [],
      "collapsed_sections": [],
      "mount_file_id": "1zhQqRDl5UWX66hZ1Ezqx45NYxfA9x0iK",
      "authorship_tag": "ABX9TyNy5xfwGDC6+CU6MwzM22Ed",
      "include_colab_link": true
    },
    "kernelspec": {
      "name": "python3",
      "display_name": "Python 3"
    }
  },
  "cells": [
    {
      "cell_type": "markdown",
      "metadata": {
        "id": "view-in-github",
        "colab_type": "text"
      },
      "source": [
        "<a href=\"https://colab.research.google.com/github/OusmanHamit/courses/blob/master/model_regression.ipynb\" target=\"_parent\"><img src=\"https://colab.research.google.com/assets/colab-badge.svg\" alt=\"Open In Colab\"/></a>"
      ]
    },
    {
      "cell_type": "markdown",
      "metadata": {
        "id": "A2-RtONHOEpl",
        "colab_type": "text"
      },
      "source": [
        "Création d'un model de regression "
      ]
    },
    {
      "cell_type": "code",
      "metadata": {
        "id": "ln1zLjRCXSNk",
        "colab_type": "code",
        "colab": {}
      },
      "source": [
        "import numpy as np\n",
        "from sklearn.datasets import make_regression\n",
        "import matplotlib.pyplot as plt"
      ],
      "execution_count": 0,
      "outputs": []
    },
    {
      "cell_type": "code",
      "metadata": {
        "id": "-gcRGuk1XY-B",
        "colab_type": "code",
        "colab": {}
      },
      "source": [
        "x,y = make_regression(n_samples=100, n_features=1, noise=10)"
      ],
      "execution_count": 0,
      "outputs": []
    },
    {
      "cell_type": "code",
      "metadata": {
        "id": "aTKcEIRm4rHh",
        "colab_type": "code",
        "colab": {
          "base_uri": "https://localhost:8080/",
          "height": 282
        },
        "outputId": "8d117fc5-446c-47f3-f5ea-6a09dbef9953"
      },
      "source": [
        "plt.scatter(x,y)"
      ],
      "execution_count": 20,
      "outputs": [
        {
          "output_type": "execute_result",
          "data": {
            "text/plain": [
              "<matplotlib.collections.PathCollection at 0x7f172cb68940>"
            ]
          },
          "metadata": {
            "tags": []
          },
          "execution_count": 20
        },
        {
          "output_type": "display_data",
          "data": {
            "image/png": "[encoded data removed]",
            "text/plain": [
              "<Figure size 432x288 with 1 Axes>"
            ]
          },
          "metadata": {
            "tags": [],
            "needs_background": "light"
          }
        }
      ]
    },
    {
      "cell_type": "markdown",
      "metadata": {
        "id": "Z28tWEk2_cNO",
        "colab_type": "text"
      },
      "source": [
        "Vérification de dimensions de nos vecteurs"
      ]
    },
    {
      "cell_type": "code",
      "metadata": {
        "id": "m6J23Ju147Dl",
        "colab_type": "code",
        "colab": {
          "base_uri": "https://localhost:8080/",
          "height": 52
        },
        "outputId": "7acdb41d-d316-44dc-8a08-5940cd9284e3"
      },
      "source": [
        "print(x.shape)\n",
        "print(y.shape)"
      ],
      "execution_count": 22,
      "outputs": [
        {
          "output_type": "stream",
          "text": [
            "(100, 1)\n",
            "(100,)\n"
          ],
          "name": "stdout"
        }
      ]
    },
    {
      "cell_type": "markdown",
      "metadata": {
        "id": "pS74D8KT_yFB",
        "colab_type": "text"
      },
      "source": [
        "Modification de la dimension de y "
      ]
    },
    {
      "cell_type": "code",
      "metadata": {
        "id": "auZvxW445XDm",
        "colab_type": "code",
        "colab": {
          "base_uri": "https://localhost:8080/",
          "height": 34
        },
        "outputId": "79a20f32-1d88-48bb-f92b-f303649af0a1"
      },
      "source": [
        "y=y.reshape(y.shape[0],1)\n",
        "print(y.shape)"
      ],
      "execution_count": 25,
      "outputs": [
        {
          "output_type": "stream",
          "text": [
            "(100, 1)\n"
          ],
          "name": "stdout"
        }
      ]
    },
    {
      "cell_type": "code",
      "metadata": {
        "id": "H915L6O9_4BQ",
        "colab_type": "code",
        "colab": {}
      },
      "source": [
        "X = np.hstack((x, np.ones(x.shape)))"
      ],
      "execution_count": 0,
      "outputs": []
    },
    {
      "cell_type": "code",
      "metadata": {
        "id": "OtWTF5YBBdrN",
        "colab_type": "code",
        "colab": {}
      },
      "source": [
        "theta = np.random.rand(2,1)"
      ],
      "execution_count": 0,
      "outputs": []
    },
    {
      "cell_type": "code",
      "metadata": {
        "id": "T6rxaXLKBvDy",
        "colab_type": "code",
        "colab": {
          "base_uri": "https://localhost:8080/",
          "height": 52
        },
        "outputId": "e81a4da4-4d73-4d2a-9782-1ef6a19fe07a"
      },
      "source": [
        "theta"
      ],
      "execution_count": 31,
      "outputs": [
        {
          "output_type": "execute_result",
          "data": {
            "text/plain": [
              "array([[0.87796425],\n",
              "       [0.22089751]])"
            ]
          },
          "metadata": {
            "tags": []
          },
          "execution_count": 31
        }
      ]
    },
    {
      "cell_type": "code",
      "metadata": {
        "id": "bkx2v9hKEOWg",
        "colab_type": "code",
        "colab": {}
      },
      "source": [
        ""
      ],
      "execution_count": 0,
      "outputs": []
    }
  ]
}